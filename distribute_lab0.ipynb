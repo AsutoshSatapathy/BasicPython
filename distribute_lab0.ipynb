{
  "nbformat": 4,
  "nbformat_minor": 0,
  "metadata": {
    "kernelspec": {
      "display_name": "Python 3",
      "language": "python",
      "name": "python3"
    },
    "language_info": {
      "codemirror_mode": {
        "name": "ipython",
        "version": 3
      },
      "file_extension": ".py",
      "mimetype": "text/x-python",
      "name": "python",
      "nbconvert_exporter": "python",
      "pygments_lexer": "ipython3",
      "version": "3.7.6"
    },
    "colab": {
      "name": "distribute_lab0.ipynb",
      "provenance": [],
      "include_colab_link": true
    }
  },
  "cells": [
    {
      "cell_type": "markdown",
      "metadata": {
        "id": "view-in-github",
        "colab_type": "text"
      },
      "source": [
        "<a href=\"https://colab.research.google.com/github/AsutoshSatapathy/BasicPython/blob/main/distribute_lab0.ipynb\" target=\"_parent\"><img src=\"https://colab.research.google.com/assets/colab-badge.svg\" alt=\"Open In Colab\"/></a>"
      ]
    },
    {
      "cell_type": "markdown",
      "metadata": {
        "id": "DPbn68DRcwhe"
      },
      "source": [
        "# Lab 0: Basic Python, Functions, Lists, Strings, and Files"
      ]
    },
    {
      "cell_type": "markdown",
      "metadata": {
        "id": "NrzmeT7EcAZB"
      },
      "source": [
        "## EXERCISE 1: A Simple Calculator\n",
        "\n",
        "Here is a fun little calculator which exercises what you have learnt so far.\n",
        "\n",
        "It has only 4 operations - Addition, Subtraction, Multiplication and Divison\n",
        "\n",
        "Notice the use of no-operation `pass`. It allows us to incrementally code by doing nothing to start, and put in functionality over time."
      ]
    },
    {
      "cell_type": "code",
      "metadata": {
        "colab": {
          "base_uri": "https://localhost:8080/"
        },
        "id": "MB1fykj8cwhn",
        "outputId": "275721f3-cca3-4b9c-e32b-772a8d861fbe"
      },
      "source": [
        "print(\"Select operation\\n\")\n",
        "print(\"1.Addition\")\n",
        "print(\"2.Subtraction\")\n",
        "print(\"3.Multiplication\")\n",
        "print(\"4.Division\")\n",
        "\n",
        "# Something NEW: Take input from the user \n",
        "choice = input(\"\\nEnter choice(1/2/3/4): \")\n",
        "\n",
        "# We convert the input to a floating-pount(or real) number.\n",
        "\n",
        "num1 = float(input(\"\\nEnter first number: \"))\n",
        "num2 = float(input(\"\\nEnter second number: \"))\n",
        "\n",
        "if choice == '1':\n",
        "  result = num1 + num2\n",
        "elif choice == '2':\n",
        "  result = num1 - num2\n",
        "elif choice == '3':\n",
        "  result = num1 * num2\n",
        "else:\n",
        "  result  = num1 / num2\n",
        "\n",
        "print (result)\n"
      ],
      "execution_count": 6,
      "outputs": [
        {
          "output_type": "stream",
          "text": [
            "Select operation\n",
            "\n",
            "1.Addition\n",
            "2.Subtraction\n",
            "3.Multiplication\n",
            "4.Division\n",
            "\n",
            "Enter choice(1/2/3/4): 4\n",
            "\n",
            "Enter first number: 12\n",
            "\n",
            "Enter second number: 4\n",
            "3.0\n"
          ],
          "name": "stdout"
        }
      ]
    },
    {
      "cell_type": "markdown",
      "metadata": {
        "id": "9UP0-AW6cwho"
      },
      "source": [
        "## EXERCISE 2: List like objects and functions on them\n",
        "\n",
        "Materialize lists using \n",
        "\n",
        "1. `range(50)`\n",
        "2. The function application `enumerate(list of alphabets)`\n",
        "3. Write your own enumerate function for a list using the function `zip`."
      ]
    },
    {
      "cell_type": "code",
      "metadata": {
        "colab": {
          "base_uri": "https://localhost:8080/"
        },
        "id": "2TXU8Mf6cwho",
        "outputId": "addee2dd-c924-4e62-ccfe-f65cdec0b722"
      },
      "source": [
        "x = [num for num in range(1, 50)]\n",
        "print (x)\n"
      ],
      "execution_count": 11,
      "outputs": [
        {
          "output_type": "stream",
          "text": [
            "[1, 2, 3, 4, 5, 6, 7, 8, 9, 10, 11, 12, 13, 14, 15, 16, 17, 18, 19, 20, 21, 22, 23, 24, 25, 26, 27, 28, 29, 30, 31, 32, 33, 34, 35, 36, 37, 38, 39, 40, 41, 42, 43, 44, 45, 46, 47, 48, 49]\n"
          ],
          "name": "stdout"
        }
      ]
    },
    {
      "cell_type": "code",
      "metadata": {
        "colab": {
          "base_uri": "https://localhost:8080/"
        },
        "id": "GgmWV6QDcwho",
        "outputId": "7d707cfd-4eb2-4a2f-a2bc-73f8985af5c4"
      },
      "source": [
        "alpha = \"abcdefghijklmnopqrstuvwxyz\"\n",
        "print (list(enumerate(alpha,1)))\n"
      ],
      "execution_count": 17,
      "outputs": [
        {
          "output_type": "stream",
          "text": [
            "[(1, 'a'), (2, 'b'), (3, 'c'), (4, 'd'), (5, 'e'), (6, 'f'), (7, 'g'), (8, 'h'), (9, 'i'), (10, 'j'), (11, 'k'), (12, 'l'), (13, 'm'), (14, 'n'), (15, 'o'), (16, 'p'), (17, 'q'), (18, 'r'), (19, 's'), (20, 't'), (21, 'u'), (22, 'v'), (23, 'w'), (24, 'x'), (25, 'y'), (26, 'z')]\n"
          ],
          "name": "stdout"
        }
      ]
    },
    {
      "cell_type": "code",
      "metadata": {
        "id": "DlroPRpthMXT",
        "outputId": "0976227b-5804-48c2-dc0f-8b7095978740",
        "colab": {
          "base_uri": "https://localhost:8080/"
        }
      },
      "source": [
        "import string\n",
        "for num in enumerate(string.ascii_lowercase):\n",
        "  print(num)"
      ],
      "execution_count": 19,
      "outputs": [
        {
          "output_type": "stream",
          "text": [
            "(0, 'a')\n",
            "(1, 'b')\n",
            "(2, 'c')\n",
            "(3, 'd')\n",
            "(4, 'e')\n",
            "(5, 'f')\n",
            "(6, 'g')\n",
            "(7, 'h')\n",
            "(8, 'i')\n",
            "(9, 'j')\n",
            "(10, 'k')\n",
            "(11, 'l')\n",
            "(12, 'm')\n",
            "(13, 'n')\n",
            "(14, 'o')\n",
            "(15, 'p')\n",
            "(16, 'q')\n",
            "(17, 'r')\n",
            "(18, 's')\n",
            "(19, 't')\n",
            "(20, 'u')\n",
            "(21, 'v')\n",
            "(22, 'w')\n",
            "(23, 'x')\n",
            "(24, 'y')\n",
            "(25, 'z')\n"
          ],
          "name": "stdout"
        }
      ]
    },
    {
      "cell_type": "code",
      "metadata": {
        "colab": {
          "base_uri": "https://localhost:8080/",
          "height": 317
        },
        "id": "tMKMQsVvcwhp",
        "outputId": "dd9de504-9f69-4d37-8e44-1dee1df49662"
      },
      "source": [
        "# your code here\n"
      ],
      "execution_count": 25,
      "outputs": [
        {
          "output_type": "error",
          "ename": "TypeError",
          "evalue": "ignored",
          "traceback": [
            "\u001b[0;31m---------------------------------------------------------------------------\u001b[0m",
            "\u001b[0;31mTypeError\u001b[0m                                 Traceback (most recent call last)",
            "\u001b[0;32m<ipython-input-25-76faa4930ae8>\u001b[0m in \u001b[0;36m<module>\u001b[0;34m()\u001b[0m\n\u001b[1;32m      4\u001b[0m \u001b[0;34m\u001b[0m\u001b[0m\n\u001b[1;32m      5\u001b[0m \u001b[0mlist1\u001b[0m \u001b[0;34m=\u001b[0m \u001b[0;34m[\u001b[0m\u001b[0;36m1\u001b[0m\u001b[0;34m,\u001b[0m\u001b[0;36m2\u001b[0m\u001b[0;34m,\u001b[0m\u001b[0;36m3\u001b[0m\u001b[0;34m,\u001b[0m\u001b[0;36m4\u001b[0m\u001b[0;34m]\u001b[0m\u001b[0;34m\u001b[0m\u001b[0;34m\u001b[0m\u001b[0m\n\u001b[0;32m----> 6\u001b[0;31m \u001b[0mzip\u001b[0m\u001b[0;34m(\u001b[0m\u001b[0mlist1\u001b[0m\u001b[0;34m)\u001b[0m\u001b[0;34m\u001b[0m\u001b[0;34m\u001b[0m\u001b[0m\n\u001b[0m",
            "\u001b[0;32m<ipython-input-25-76faa4930ae8>\u001b[0m in \u001b[0;36mzip\u001b[0;34m(my_list)\u001b[0m\n\u001b[1;32m      1\u001b[0m \u001b[0;32mdef\u001b[0m \u001b[0mzip\u001b[0m\u001b[0;34m(\u001b[0m\u001b[0mmy_list\u001b[0m\u001b[0;34m)\u001b[0m\u001b[0;34m:\u001b[0m\u001b[0;34m\u001b[0m\u001b[0;34m\u001b[0m\u001b[0m\n\u001b[0;32m----> 2\u001b[0;31m   \u001b[0;32mfor\u001b[0m \u001b[0mindex\u001b[0m\u001b[0;34m,\u001b[0m \u001b[0mchar\u001b[0m \u001b[0;32min\u001b[0m \u001b[0mmy_list\u001b[0m\u001b[0;34m:\u001b[0m\u001b[0;34m\u001b[0m\u001b[0;34m\u001b[0m\u001b[0m\n\u001b[0m\u001b[1;32m      3\u001b[0m     \u001b[0mprint\u001b[0m \u001b[0;34m(\u001b[0m\u001b[0mindex\u001b[0m\u001b[0;34m,\u001b[0m \u001b[0;34m\"==>\"\u001b[0m\u001b[0;34m,\u001b[0m \u001b[0mchar\u001b[0m\u001b[0;34m)\u001b[0m\u001b[0;34m\u001b[0m\u001b[0;34m\u001b[0m\u001b[0m\n\u001b[1;32m      4\u001b[0m \u001b[0;34m\u001b[0m\u001b[0m\n\u001b[1;32m      5\u001b[0m \u001b[0mlist1\u001b[0m \u001b[0;34m=\u001b[0m \u001b[0;34m[\u001b[0m\u001b[0;36m1\u001b[0m\u001b[0;34m,\u001b[0m\u001b[0;36m2\u001b[0m\u001b[0;34m,\u001b[0m\u001b[0;36m3\u001b[0m\u001b[0;34m,\u001b[0m\u001b[0;36m4\u001b[0m\u001b[0;34m]\u001b[0m\u001b[0;34m\u001b[0m\u001b[0;34m\u001b[0m\u001b[0m\n",
            "\u001b[0;31mTypeError\u001b[0m: 'int' object is not iterable"
          ]
        }
      ]
    },
    {
      "cell_type": "markdown",
      "metadata": {
        "id": "rUe6oWVsvj12"
      },
      "source": [
        "## EXERCISE 3: Count the special characters\n",
        "\n",
        "Consider the string \"HelloWorld,123,ThisIsUniv.Ai\" (not including the quotes). Find the number of uppercase, lowercase, special character and numerical characters.\n"
      ]
    },
    {
      "cell_type": "code",
      "metadata": {
        "id": "AhtIbEdncwhp"
      },
      "source": [
        "my_string = \"HelloWorld,123,ThisIsUniv.Ai\"\n",
        "# your code here\n"
      ],
      "execution_count": null,
      "outputs": []
    },
    {
      "cell_type": "code",
      "metadata": {
        "id": "0p5tGDnDcwhq"
      },
      "source": [
        "counter(string.ascii_uppercase, my_string),counter(string.ascii_lowercase, my_string),counter(string.digits, my_string),counter(string.punctuation, my_string)"
      ],
      "execution_count": null,
      "outputs": []
    },
    {
      "cell_type": "markdown",
      "metadata": {
        "id": "51MZxeRTcwhq"
      },
      "source": [
        "## EXERCISE 4: Read a file and parse words from it\n",
        "\n",
        "Read Julius Caesar. Get each line. Remove newline characters from each line. Split the line to get the words from the line. Lowercase them. Print the first 1000 words, lowercased."
      ]
    },
    {
      "cell_type": "code",
      "metadata": {
        "colab": {
          "base_uri": "https://localhost:8080/"
        },
        "id": "HdI_xYuDcwhq",
        "outputId": "de2a9248-594d-4ec1-a700-224e23bacab8"
      },
      "source": [
        "!wget https://raw.githubusercontent.com/AsutoshSatapathy/BasicPython/main/data/Julius%20Caesar.txt\n"
      ],
      "execution_count": 65,
      "outputs": [
        {
          "output_type": "stream",
          "text": [
            "--2020-12-19 07:39:39--  https://raw.githubusercontent.com/AsutoshSatapathy/BasicPython/main/data/Julius%20Caesar.txt\n",
            "Resolving raw.githubusercontent.com (raw.githubusercontent.com)... 151.101.0.133, 151.101.64.133, 151.101.128.133, ...\n",
            "Connecting to raw.githubusercontent.com (raw.githubusercontent.com)|151.101.0.133|:443... connected.\n",
            "HTTP request sent, awaiting response... 200 OK\n",
            "Length: 120873 (118K) [text/plain]\n",
            "Saving to: ‘Julius Caesar.txt’\n",
            "\n",
            "\rJulius Caesar.txt     0%[                    ]       0  --.-KB/s               \rJulius Caesar.txt   100%[===================>] 118.04K  --.-KB/s    in 0.03s   \n",
            "\n",
            "2020-12-19 07:39:39 (4.30 MB/s) - ‘Julius Caesar.txt’ saved [120873/120873]\n",
            "\n"
          ],
          "name": "stdout"
        }
      ]
    },
    {
      "cell_type": "code",
      "metadata": {
        "colab": {
          "base_uri": "https://localhost:8080/"
        },
        "id": "yieA9bqscwhr",
        "outputId": "d7b04bef-e9d6-4eab-a010-67f055dabe88"
      },
      "source": [
        "wordlist = []\n",
        "fd = open(\"Julius Caesar.txt\")\n",
        "lines  = fd.readlines()\n",
        "fd.close()\n",
        "cleaned_lines = [line.strip() for line in lines]\n",
        "#print(cleaned_lines)\n",
        "list_of_lines_words = [line.split() for line in cleaned_lines]\n",
        "for lines_words in list_of_lines_words:\n",
        "    wordlist = wordlist + [l.lower() for l in lines_words]\n",
        "print(wordlist[:1000])\n",
        "\n",
        "\n",
        "\n"
      ],
      "execution_count": 67,
      "outputs": [
        {
          "output_type": "stream",
          "text": [
            "['the', 'tragedy', 'of', 'julius', 'caesar', 'by', 'william', 'shakespeare', 'contents', 'act', 'i', 'scene', 'i.', 'rome.', 'a', 'street.', 'scene', 'ii.', 'the', 'same.', 'a', 'public', 'place.', 'scene', 'iii.', 'the', 'same.', 'a', 'street.', 'act', 'ii', 'scene', 'i.', 'rome.', 'brutusâ€™', 'orchard.', 'scene', 'ii.', 'a', 'room', 'in', 'caesarâ€™s', 'palace.', 'scene', 'iii.', 'a', 'street', 'near', 'the', 'capitol.', 'scene', 'iv.', 'another', 'part', 'of', 'the', 'same', 'street,', 'before', 'the', 'house', 'of', 'brutus.', 'act', 'iii', 'scene', 'i.', 'rome.', 'before', 'the', 'capitol;', 'the', 'senate', 'sitting.', 'scene', 'ii.', 'the', 'same.', 'the', 'forum.', 'scene', 'iii.', 'the', 'same.', 'a', 'street.', 'act', 'iv', 'scene', 'i.', 'a', 'room', 'in', 'antonyâ€™s', 'house.', 'scene', 'ii.', 'before', 'brutusâ€™', 'tent,', 'in', 'the', 'camp', 'near', 'sardis.', 'scene', 'iii.', 'within', 'the', 'tent', 'of', 'brutus.', 'act', 'v', 'scene', 'i.', 'the', 'plains', 'of', 'philippi.', 'scene', 'ii.', 'the', 'same.', 'the', 'field', 'of', 'battle.', 'scene', 'iii.', 'another', 'part', 'of', 'the', 'field.', 'scene', 'iv.', 'another', 'part', 'of', 'the', 'field.', 'scene', 'v.', 'another', 'part', 'of', 'the', 'field.', 'dramatis', 'personã¦', 'julius', 'caesar', 'octavius', 'caesar,', 'triumvir', 'after', 'his', 'death.', 'marcus', 'antonius,', 'â€\\x9d', 'â€\\x9d', 'â€\\x9d', 'm.', 'aemilius', 'lepidus,', 'â€\\x9d', 'â€\\x9d', 'â€\\x9d', 'cicero,', 'publius,', 'popilius', 'lena,', 'senators.', 'marcus', 'brutus,', 'conspirator', 'against', 'caesar.', 'cassius,', 'â€\\x9d', 'â€\\x9d', 'â€\\x9d', 'casca,', 'â€\\x9d', 'â€\\x9d', 'â€\\x9d', 'trebonius,', 'â€\\x9d', 'â€\\x9d', 'â€\\x9d', 'ligarius,â€\\x9d', 'â€\\x9d', 'â€\\x9d', 'decius', 'brutus,', 'â€\\x9d', 'â€\\x9d', 'â€\\x9d', 'metellus', 'cimber,', 'â€\\x9d', 'â€\\x9d', 'â€\\x9d', 'cinna,', 'â€\\x9d', 'â€\\x9d', 'â€\\x9d', 'flavius,', 'tribune', 'marullus,', 'tribune', 'artemidorus,', 'a', 'sophist', 'of', 'cnidos.', 'a', 'soothsayer', 'cinna,', 'a', 'poet.', 'another', 'poet.', 'lucilius,', 'titinius,', 'messala,', 'young', 'cato,', 'and', 'volumnius,', 'friends', 'to', 'brutus', 'and', 'cassius.', 'varro,', 'clitus,', 'claudius,', 'strato,', 'lucius,', 'dardanius,', 'servants', 'to', 'brutus', 'pindarus,', 'servant', 'to', 'cassius', 'calphurnia,', 'wife', 'to', 'caesar', 'portia,', 'wife', 'to', 'brutus', 'the', 'ghost', 'of', 'caesar', 'senators,', 'citizens,', 'soldiers,', 'commoners,', 'messengers,', 'and', 'servants.', 'scene:', 'rome,', 'the', 'conspiratorsâ€™', 'camp', 'near', 'sardis,', 'and', 'the', 'plains', 'of', 'philippi.', 'act', 'i', 'scene', 'i.', 'rome.', 'a', 'street.', 'enter', 'flavius,', 'marullus', 'and', 'a', 'throng', 'of', 'citizens.', 'flavius.', 'hence!', 'home,', 'you', 'idle', 'creatures,', 'get', 'you', 'home.', 'is', 'this', 'a', 'holiday?', 'what,', 'know', 'you', 'not,', 'being', 'mechanical,', 'you', 'ought', 'not', 'walk', 'upon', 'a', 'labouring', 'day', 'without', 'the', 'sign', 'of', 'your', 'profession?', 'speak,', 'what', 'trade', 'art', 'thou?', 'carpenter.', 'why,', 'sir,', 'a', 'carpenter.', 'marullus.', 'where', 'is', 'thy', 'leather', 'apron', 'and', 'thy', 'rule?', 'what', 'dost', 'thou', 'with', 'thy', 'best', 'apparel', 'on?', 'you,', 'sir,', 'what', 'trade', 'are', 'you?', 'cobbler.', 'truly,', 'sir,', 'in', 'respect', 'of', 'a', 'fine', 'workman,', 'i', 'am', 'but,', 'as', 'you', 'would', 'say,', 'a', 'cobbler.', 'marullus.', 'but', 'what', 'trade', 'art', 'thou?', 'answer', 'me', 'directly.', 'cobbler.', 'a', 'trade,', 'sir,', 'that', 'i', 'hope', 'i', 'may', 'use', 'with', 'a', 'safe', 'conscience,', 'which', 'is', 'indeed,', 'sir,', 'a', 'mender', 'of', 'bad', 'soles.', 'marullus.', 'what', 'trade,', 'thou', 'knave?', 'thou', 'naughty', 'knave,', 'what', 'trade?', 'cobbler.', 'nay,', 'i', 'beseech', 'you,', 'sir,', 'be', 'not', 'out', 'with', 'me;', 'yet,', 'if', 'you', 'be', 'out,', 'sir,', 'i', 'can', 'mend', 'you.', 'marullus.', 'what', 'meanâ€™st', 'thou', 'by', 'that?', 'mend', 'me,', 'thou', 'saucy', 'fellow!', 'cobbler.', 'why,', 'sir,', 'cobble', 'you.', 'flavius.', 'thou', 'art', 'a', 'cobbler,', 'art', 'thou?', 'cobbler.', 'truly,', 'sir,', 'all', 'that', 'i', 'live', 'by', 'is', 'with', 'the', 'awl;', 'i', 'meddle', 'with', 'no', 'tradesmanâ€™s', 'matters,', 'nor', 'womenâ€™s', 'matters,', 'but', 'withal', 'i', 'am', 'indeed,', 'sir,', 'a', 'surgeon', 'to', 'old', 'shoes:', 'when', 'they', 'are', 'in', 'great', 'danger,', 'i', 'recover', 'them.', 'as', 'proper', 'men', 'as', 'ever', 'trod', 'upon', 'neatâ€™s', 'leather', 'have', 'gone', 'upon', 'my', 'handiwork.', 'flavius.', 'but', 'wherefore', 'art', 'not', 'in', 'thy', 'shop', 'today?', 'why', 'dost', 'thou', 'lead', 'these', 'men', 'about', 'the', 'streets?', 'cobbler.', 'truly,', 'sir,', 'to', 'wear', 'out', 'their', 'shoes,', 'to', 'get', 'myself', 'into', 'more', 'work.', 'but', 'indeed,', 'sir,', 'we', 'make', 'holiday', 'to', 'see', 'caesar,', 'and', 'to', 'rejoice', 'in', 'his', 'triumph.', 'marullus.', 'wherefore', 'rejoice?', 'what', 'conquest', 'brings', 'he', 'home?', 'what', 'tributaries', 'follow', 'him', 'to', 'rome,', 'to', 'grace', 'in', 'captive', 'bonds', 'his', 'chariot', 'wheels?', 'you', 'blocks,', 'you', 'stones,', 'you', 'worse', 'than', 'senseless', 'things!', 'o', 'you', 'hard', 'hearts,', 'you', 'cruel', 'men', 'of', 'rome,', 'knew', 'you', 'not', 'pompey?', 'many', 'a', 'time', 'and', 'oft', 'have', 'you', 'climbâ€™d', 'up', 'to', 'walls', 'and', 'battlements,', 'to', 'towers', 'and', 'windows,', 'yea,', 'to', 'chimney', 'tops,', 'your', 'infants', 'in', 'your', 'arms,', 'and', 'there', 'have', 'sat', 'the', 'livelong', 'day', 'with', 'patient', 'expectation,', 'to', 'see', 'great', 'pompey', 'pass', 'the', 'streets', 'of', 'rome.', 'and', 'when', 'you', 'saw', 'his', 'chariot', 'but', 'appear,', 'have', 'you', 'not', 'made', 'an', 'universal', 'shout,', 'that', 'tiber', 'trembled', 'underneath', 'her', 'banks', 'to', 'hear', 'the', 'replication', 'of', 'your', 'sounds', 'made', 'in', 'her', 'concave', 'shores?', 'and', 'do', 'you', 'now', 'put', 'on', 'your', 'best', 'attire?', 'and', 'do', 'you', 'now', 'cull', 'out', 'a', 'holiday?', 'and', 'do', 'you', 'now', 'strew', 'flowers', 'in', 'his', 'way,', 'that', 'comes', 'in', 'triumph', 'over', 'pompeyâ€™s', 'blood?', 'be', 'gone!', 'run', 'to', 'your', 'houses,', 'fall', 'upon', 'your', 'knees,', 'pray', 'to', 'the', 'gods', 'to', 'intermit', 'the', 'plague', 'that', 'needs', 'must', 'light', 'on', 'this', 'ingratitude.', 'flavius.', 'go,', 'go,', 'good', 'countrymen,', 'and,', 'for', 'this', 'fault', 'assemble', 'all', 'the', 'poor', 'men', 'of', 'your', 'sort,', 'draw', 'them', 'to', 'tiber', 'banks,', 'and', 'weep', 'your', 'tears', 'into', 'the', 'channel,', 'till', 'the', 'lowest', 'stream', 'do', 'kiss', 'the', 'most', 'exalted', 'shores', 'of', 'all.', '[_exeunt', 'citizens._]', 'see', 'whether', 'their', 'basest', 'metal', 'be', 'not', 'movâ€™d;', 'they', 'vanish', 'tongue-tied', 'in', 'their', 'guiltiness.', 'go', 'you', 'down', 'that', 'way', 'towards', 'the', 'capitol;', 'this', 'way', 'will', 'i.', 'disrobe', 'the', 'images,', 'if', 'you', 'do', 'find', 'them', 'deckâ€™d', 'with', 'ceremonies.', 'marullus.', 'may', 'we', 'do', 'so?', 'you', 'know', 'it', 'is', 'the', 'feast', 'of', 'lupercal.', 'flavius.', 'it', 'is', 'no', 'matter;', 'let', 'no', 'images', 'be', 'hung', 'with', 'caesarâ€™s', 'trophies.', 'iâ€™ll', 'about', 'and', 'drive', 'away', 'the', 'vulgar', 'from', 'the', 'streets;', 'so', 'do', 'you', 'too,', 'where', 'you', 'perceive', 'them', 'thick.', 'these', 'growing', 'feathers', 'pluckâ€™d', 'from', 'caesarâ€™s', 'wing', 'will', 'make', 'him', 'fly', 'an', 'ordinary', 'pitch,', 'who', 'else', 'would', 'soar', 'above', 'the', 'view', 'of', 'men,', 'and', 'keep', 'us', 'all', 'in', 'servile', 'fearfulness.', '[_exeunt._]', 'scene', 'ii.', 'the', 'same.', 'a', 'public', 'place.', 'enter,', 'in', 'procession,', 'with', 'music,', 'caesar;', 'antony,', 'for', 'the', 'course;', 'calphurnia,', 'portia,', 'decius,', 'cicero,', 'brutus,', 'cassius', 'and', 'casca;', 'a', 'great', 'crowd', 'following,', 'among', 'them', 'a', 'soothsayer.', 'caesar.', 'calphurnia.', 'casca.', 'peace,', 'ho!', 'caesar', 'speaks.', '[_music', 'ceases._]', 'caesar.', 'calphurnia.', 'calphurnia.', 'here,', 'my', 'lord.', 'caesar.', 'stand', 'you', 'directly', 'in', 'antoniusâ€™', 'way,', 'when', 'he', 'doth', 'run', 'his', 'course.', 'antonius.', 'antony.', 'caesar,', 'my', 'lord?', 'caesar.', 'forget', 'not', 'in', 'your', 'speed,', 'antonius,', 'to', 'touch', 'calphurnia;', 'for', 'our', 'elders', 'say,', 'the', 'barren,', 'touched', 'in', 'this', 'holy', 'chase,', 'shake', 'off', 'their', 'sterile', 'curse.', 'antony.', 'i', 'shall', 'remember.']\n"
          ],
          "name": "stdout"
        }
      ]
    }
  ]
}